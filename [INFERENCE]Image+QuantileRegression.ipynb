{
 "cells": [
  {
   "cell_type": "code",
   "execution_count": 1,
   "metadata": {
    "_kg_hide-input": true,
    "_kg_hide-output": true,
    "collapsed": true,
    "execution": {
     "iopub.execute_input": "2020-10-05T15:37:57.726628Z",
     "iopub.status.busy": "2020-10-05T15:37:57.725759Z",
     "iopub.status.idle": "2020-10-05T15:38:15.464168Z",
     "shell.execute_reply": "2020-10-05T15:38:15.464662Z"
    },
    "papermill": {
     "duration": 17.776654,
     "end_time": "2020-10-05T15:38:15.464885",
     "exception": false,
     "start_time": "2020-10-05T15:37:57.688231",
     "status": "completed"
    },
    "tags": []
   },
   "outputs": [
    {
     "name": "stdout",
     "output_type": "stream",
     "text": [
      "Looking in links: ./\r\n",
      "Processing /kaggle/input/kerasapplications/keras-team-keras-applications-3b180cb\r\n",
      "Requirement already satisfied: numpy>=1.9.1 in /opt/conda/lib/python3.7/site-packages (from Keras-Applications==1.0.8) (1.18.5)\r\n",
      "Requirement already satisfied: h5py in /opt/conda/lib/python3.7/site-packages (from Keras-Applications==1.0.8) (2.10.0)\r\n",
      "Requirement already satisfied: six in /opt/conda/lib/python3.7/site-packages (from h5py->Keras-Applications==1.0.8) (1.14.0)\r\n",
      "Building wheels for collected packages: Keras-Applications\r\n",
      "  Building wheel for Keras-Applications (setup.py) ... \u001b[?25l-\b \b\\\b \bdone\r\n",
      "\u001b[?25h  Created wheel for Keras-Applications: filename=Keras_Applications-1.0.8-py3-none-any.whl size=50704 sha256=1d366451f7ea33b682a332d7f86ce52cab2448f9ef8bb7903d8afda2f28eefaa\r\n",
      "  Stored in directory: /root/.cache/pip/wheels/f4/96/13/eccdd9391bd8df958d78851b98ec4dc207ba05b67b011eb70a\r\n",
      "Successfully built Keras-Applications\r\n",
      "Installing collected packages: Keras-Applications\r\n",
      "Successfully installed Keras-Applications-1.0.8\r\n",
      "Looking in links: ./\r\n",
      "Processing /kaggle/input/efficientnet/efficientnet-1.1.0\r\n",
      "Requirement already satisfied: keras_applications<=1.0.8,>=1.0.7 in /opt/conda/lib/python3.7/site-packages (from efficientnet==1.1.0) (1.0.8)\r\n",
      "Requirement already satisfied: scikit-image in /opt/conda/lib/python3.7/site-packages (from efficientnet==1.1.0) (0.16.2)\r\n",
      "Requirement already satisfied: h5py in /opt/conda/lib/python3.7/site-packages (from keras_applications<=1.0.8,>=1.0.7->efficientnet==1.1.0) (2.10.0)\r\n",
      "Requirement already satisfied: numpy>=1.9.1 in /opt/conda/lib/python3.7/site-packages (from keras_applications<=1.0.8,>=1.0.7->efficientnet==1.1.0) (1.18.5)\r\n",
      "Requirement already satisfied: scipy>=0.19.0 in /opt/conda/lib/python3.7/site-packages (from scikit-image->efficientnet==1.1.0) (1.4.1)\r\n",
      "Requirement already satisfied: matplotlib!=3.0.0,>=2.0.0 in /opt/conda/lib/python3.7/site-packages (from scikit-image->efficientnet==1.1.0) (3.2.1)\r\n",
      "Requirement already satisfied: networkx>=2.0 in /opt/conda/lib/python3.7/site-packages (from scikit-image->efficientnet==1.1.0) (2.4)\r\n",
      "Requirement already satisfied: pillow>=4.3.0 in /opt/conda/lib/python3.7/site-packages (from scikit-image->efficientnet==1.1.0) (5.4.1)\r\n",
      "Requirement already satisfied: imageio>=2.3.0 in /opt/conda/lib/python3.7/site-packages (from scikit-image->efficientnet==1.1.0) (2.8.0)\r\n",
      "Requirement already satisfied: PyWavelets>=0.4.0 in /opt/conda/lib/python3.7/site-packages (from scikit-image->efficientnet==1.1.0) (1.1.1)\r\n",
      "Requirement already satisfied: six in /opt/conda/lib/python3.7/site-packages (from h5py->keras_applications<=1.0.8,>=1.0.7->efficientnet==1.1.0) (1.14.0)\r\n",
      "Requirement already satisfied: cycler>=0.10 in /opt/conda/lib/python3.7/site-packages (from matplotlib!=3.0.0,>=2.0.0->scikit-image->efficientnet==1.1.0) (0.10.0)\r\n",
      "Requirement already satisfied: python-dateutil>=2.1 in /opt/conda/lib/python3.7/site-packages (from matplotlib!=3.0.0,>=2.0.0->scikit-image->efficientnet==1.1.0) (2.8.1)\r\n",
      "Requirement already satisfied: kiwisolver>=1.0.1 in /opt/conda/lib/python3.7/site-packages (from matplotlib!=3.0.0,>=2.0.0->scikit-image->efficientnet==1.1.0) (1.2.0)\r\n",
      "Requirement already satisfied: pyparsing!=2.0.4,!=2.1.2,!=2.1.6,>=2.0.1 in /opt/conda/lib/python3.7/site-packages (from matplotlib!=3.0.0,>=2.0.0->scikit-image->efficientnet==1.1.0) (2.4.7)\r\n",
      "Requirement already satisfied: decorator>=4.3.0 in /opt/conda/lib/python3.7/site-packages (from networkx>=2.0->scikit-image->efficientnet==1.1.0) (4.4.2)\r\n",
      "Building wheels for collected packages: efficientnet\r\n",
      "  Building wheel for efficientnet (setup.py) ... \u001b[?25l-\b \b\\\b \bdone\r\n",
      "\u001b[?25h  Created wheel for efficientnet: filename=efficientnet-1.1.0-py3-none-any.whl size=14141 sha256=34300e095522ca0644c288dfe3632bd22480aacae579aace17a9d3bea95294e6\r\n",
      "  Stored in directory: /root/.cache/pip/wheels/24/f5/31/3cc20871288fe532128224a3f5af7b4d67efb9835bd5683522\r\n",
      "Successfully built efficientnet\r\n",
      "Installing collected packages: efficientnet\r\n",
      "Successfully installed efficientnet-1.1.0\r\n"
     ]
    }
   ],
   "source": [
    "!pip install ../input/kerasapplications/keras-team-keras-applications-3b180cb -f ./ --no-index\n",
    "!pip install ../input/efficientnet/efficientnet-1.1.0/ -f ./ --no-index"
   ]
  },
  {
   "cell_type": "code",
   "execution_count": 2,
   "metadata": {
    "_cell_guid": "b1076dfc-b9ad-4769-8c92-a6c4dae69d19",
    "_kg_hide-input": true,
    "_uuid": "8f2839f25d086af736a60e9eeb907d3b93b6e0e5",
    "execution": {
     "iopub.execute_input": "2020-10-05T15:38:15.556337Z",
     "iopub.status.busy": "2020-10-05T15:38:15.555350Z",
     "iopub.status.idle": "2020-10-05T15:38:17.906749Z",
     "shell.execute_reply": "2020-10-05T15:38:17.907929Z"
    },
    "papermill": {
     "duration": 2.404865,
     "end_time": "2020-10-05T15:38:17.908282",
     "exception": false,
     "start_time": "2020-10-05T15:38:15.503417",
     "status": "completed"
    },
    "tags": []
   },
   "outputs": [],
   "source": [
    "import numpy as np\n",
    "import pandas as pd\n",
    "import pydicom\n",
    "import cv2\n",
    "import os\n",
    "import random\n",
    "import math\n",
    "import matplotlib.pyplot as plt\n",
    "from tqdm import tqdm\n",
    "from PIL import Image\n",
    "from sklearn.metrics import mean_absolute_error\n",
    "from sklearn.model_selection import KFold, GroupKFold\n",
    "from skimage.measure import label,regionprops\n",
    "from skimage.segmentation import clear_border \n",
    "from multiprocessing import Pool\n",
    "import matplotlib.pyplot as plt\n",
    "import seaborn as sns\n",
    "from sklearn.model_selection import train_test_split\n",
    "\n",
    "import tensorflow as tf\n",
    "import tensorflow.keras.backend as K\n",
    "import tensorflow.keras.layers as L\n",
    "import tensorflow.keras.models as M\n",
    "from tensorflow.keras.callbacks import ReduceLROnPlateau\n",
    "from tensorflow.keras.optimizers import Nadam\n",
    "from tensorflow_addons.optimizers import RectifiedAdam\n",
    "from tensorflow.keras.utils import Sequence\n",
    "from tensorflow.keras.layers import (\n",
    "    Dense, Dropout, Activation, Flatten, Input, BatchNormalization, GlobalAveragePooling2D, Add, \n",
    "    Conv2D, AveragePooling2D, LeakyReLU, Concatenate, GlobalMaxPooling2D, GaussianNoise)\n",
    "import efficientnet.tfkeras as efn\n",
    "\n",
    "from skopt import gp_minimize, forest_minimize\n",
    "from skopt.utils import use_named_args\n",
    "from skopt.plots import plot_objective, plot_evaluations, plot_convergence, plot_regret\n",
    "from skopt.space import Categorical, Integer, Real\n",
    "\n",
    "def seed_everything(seed=2020):\n",
    "    random.seed(seed)\n",
    "    os.environ['PYTHONHASHSEED'] = str(seed)\n",
    "    np.random.seed(seed)\n",
    "    tf.random.set_seed(seed)\n",
    "    \n",
    "seed_everything(42)"
   ]
  },
  {
   "cell_type": "code",
   "execution_count": 3,
   "metadata": {
    "execution": {
     "iopub.execute_input": "2020-10-05T15:38:18.040637Z",
     "iopub.status.busy": "2020-10-05T15:38:18.038300Z",
     "iopub.status.idle": "2020-10-05T15:38:21.229494Z",
     "shell.execute_reply": "2020-10-05T15:38:21.230146Z"
    },
    "papermill": {
     "duration": 3.258681,
     "end_time": "2020-10-05T15:38:21.230294",
     "exception": false,
     "start_time": "2020-10-05T15:38:17.971613",
     "status": "completed"
    },
    "tags": []
   },
   "outputs": [],
   "source": [
    "config = tf.compat.v1.ConfigProto()\n",
    "config.gpu_options.allow_growth = True\n",
    "session = tf.compat.v1.Session(config=config)"
   ]
  },
  {
   "cell_type": "markdown",
   "metadata": {
    "papermill": {
     "duration": 0.035394,
     "end_time": "2020-10-05T15:38:21.300633",
     "exception": false,
     "start_time": "2020-10-05T15:38:21.265239",
     "status": "completed"
    },
    "tags": []
   },
   "source": [
    "# Image model"
   ]
  },
  {
   "cell_type": "code",
   "execution_count": 4,
   "metadata": {
    "execution": {
     "iopub.execute_input": "2020-10-05T15:38:21.382753Z",
     "iopub.status.busy": "2020-10-05T15:38:21.381953Z",
     "iopub.status.idle": "2020-10-05T15:38:21.398632Z",
     "shell.execute_reply": "2020-10-05T15:38:21.398126Z"
    },
    "papermill": {
     "duration": 0.061684,
     "end_time": "2020-10-05T15:38:21.398752",
     "exception": false,
     "start_time": "2020-10-05T15:38:21.337068",
     "status": "completed"
    },
    "tags": []
   },
   "outputs": [
    {
     "data": {
      "text/plain": [
       "True"
      ]
     },
     "execution_count": 4,
     "metadata": {},
     "output_type": "execute_result"
    }
   ],
   "source": [
    "alpha = 0.5\n",
    "weights = '../input/osictrial4/'\n",
    "train = pd.read_csv('../input/osic-pulmonary-fibrosis-progression/train.csv') \n",
    "models = [0,1,2,3,4]\n",
    "\n",
    "COMMIT = len(os.listdir('../input/osic-pulmonary-fibrosis-progression/test/')) == 5\n",
    "COMMIT"
   ]
  },
  {
   "cell_type": "code",
   "execution_count": 5,
   "metadata": {
    "_kg_hide-input": true,
    "execution": {
     "iopub.execute_input": "2020-10-05T15:38:21.504011Z",
     "iopub.status.busy": "2020-10-05T15:38:21.498508Z",
     "iopub.status.idle": "2020-10-05T15:38:21.823305Z",
     "shell.execute_reply": "2020-10-05T15:38:21.822819Z"
    },
    "papermill": {
     "duration": 0.389213,
     "end_time": "2020-10-05T15:38:21.823412",
     "exception": false,
     "start_time": "2020-10-05T15:38:21.434199",
     "status": "completed"
    },
    "tags": []
   },
   "outputs": [
    {
     "name": "stderr",
     "output_type": "stream",
     "text": [
      "0it [00:00, ?it/s]/opt/conda/lib/python3.7/site-packages/ipykernel_launcher.py:29: FutureWarning: `rcond` parameter will change to the default of machine precision times ``max(M, N)`` where M and N are the input matrix dimensions.\n",
      "To use the future default and silence this warning we advise to pass `rcond=None`, to keep using the old, explicitly pass `rcond=-1`.\n",
      "176it [00:00, 590.38it/s]\n"
     ]
    }
   ],
   "source": [
    "train = pd.read_csv('../input/osic-pulmonary-fibrosis-progression/train.csv')\n",
    "\n",
    "def get_tab(df):\n",
    "    vector = [(df.Age.values[0] - 30) / 30] \n",
    "    \n",
    "    if df.Sex.values[0] == 'male':\n",
    "        vector.append(0)\n",
    "    else:\n",
    "        vector.append(1)\n",
    "    \n",
    "    if df.SmokingStatus.values[0] == 'Never smoked':\n",
    "        vector.extend([0,0])\n",
    "    elif df.SmokingStatus.values[0] == 'Ex-smoker':\n",
    "        vector.extend([1,1])\n",
    "    elif df.SmokingStatus.values[0] == 'Currently smokes':\n",
    "        vector.extend([0,1])\n",
    "    else:\n",
    "        vector.extend([1,0])\n",
    "    return np.array(vector)\n",
    "\n",
    "A = {} \n",
    "TAB = {} \n",
    "P = [] \n",
    "for i, p in tqdm(enumerate(train.Patient.unique())):\n",
    "    sub = train.loc[train.Patient == p, :] \n",
    "    fvc = sub.FVC.values\n",
    "    weeks = sub.Weeks.values\n",
    "    c = np.vstack([weeks, np.ones(len(weeks))]).T\n",
    "    a, b = np.linalg.lstsq(c, fvc)[0]\n",
    "    \n",
    "    A[p] = a\n",
    "    TAB[p] = get_tab(sub)\n",
    "    P.append(p)\n",
    "    \n",
    "def get_img(path):\n",
    "    d = pydicom.dcmread(path)\n",
    "    return cv2.resize(d.pixel_array / 2**11, (512, 512))\n",
    "\n",
    "class IGenerator(Sequence):\n",
    "    BAD_ID = ['ID00011637202177653955184', 'ID00052637202186188008618']\n",
    "    def __init__(self, keys, a, tab, batch_size=32):\n",
    "        self.keys = [k for k in keys if k not in self.BAD_ID]\n",
    "        self.a = a\n",
    "        self.tab = tab\n",
    "        self.batch_size = batch_size\n",
    "        \n",
    "        self.train_data = {}\n",
    "        for p in train.Patient.values:\n",
    "            self.train_data[p] = os.listdir(f'../input/osic-pulmonary-fibrosis-progression/train/{p}/')\n",
    "    \n",
    "    def __len__(self):\n",
    "        return 1000\n",
    "    \n",
    "    def __getitem__(self, idx):\n",
    "        x = []\n",
    "        a, tab = [], [] \n",
    "        keys = np.random.choice(self.keys, size = self.batch_size)\n",
    "        for k in keys:\n",
    "            try:\n",
    "                i = np.random.choice(self.train_data[k], size=1)[0]\n",
    "                img = get_img(f'../input/osic-pulmonary-fibrosis-progression/train/{k}/{i}')\n",
    "                x.append(img)\n",
    "                a.append(self.a[k])\n",
    "                tab.append(self.tab[k])\n",
    "            except:\n",
    "                print(k, i)\n",
    "       \n",
    "        x,a,tab = np.array(x), np.array(a), np.array(tab)\n",
    "        x = np.expand_dims(x, axis=-1)\n",
    "        return [x, tab] , a\n",
    "    \n",
    "def get_efficientnet(model, shape):\n",
    "    models_dict = {\n",
    "        'b0': efn.EfficientNetB0(input_shape=shape,weights=None,include_top=False),\n",
    "        'b1': efn.EfficientNetB1(input_shape=shape,weights=None,include_top=False),\n",
    "        'b2': efn.EfficientNetB2(input_shape=shape,weights=None,include_top=False),\n",
    "        'b3': efn.EfficientNetB3(input_shape=shape,weights=None,include_top=False),\n",
    "        'b4': efn.EfficientNetB4(input_shape=shape,weights=None,include_top=False),\n",
    "        'b5': efn.EfficientNetB5(input_shape=shape,weights=None,include_top=False),\n",
    "        'b6': efn.EfficientNetB6(input_shape=shape,weights=None,include_top=False),\n",
    "        'b7': efn.EfficientNetB7(input_shape=shape,weights=None,include_top=False)\n",
    "    }\n",
    "    return models_dict[model]\n",
    "\n",
    "def score(fvc_true, fvc_pred, sigma):\n",
    "    sigma_clip = np.maximum(sigma, 70)\n",
    "    delta = np.abs(fvc_true - fvc_pred)\n",
    "    delta = np.minimum(delta, 1000)\n",
    "    sq2 = np.sqrt(2)\n",
    "    metric = (delta / sigma_clip)*sq2 + np.log(sigma_clip* sq2)\n",
    "    return np.mean(metric)"
   ]
  },
  {
   "cell_type": "code",
   "execution_count": 6,
   "metadata": {
    "execution": {
     "iopub.execute_input": "2020-10-05T15:38:21.919246Z",
     "iopub.status.busy": "2020-10-05T15:38:21.918365Z",
     "iopub.status.idle": "2020-10-05T15:38:21.922213Z",
     "shell.execute_reply": "2020-10-05T15:38:21.921614Z"
    },
    "papermill": {
     "duration": 0.056552,
     "end_time": "2020-10-05T15:38:21.922311",
     "exception": false,
     "start_time": "2020-10-05T15:38:21.865759",
     "status": "completed"
    },
    "tags": []
   },
   "outputs": [
    {
     "name": "stdout",
     "output_type": "stream",
     "text": [
      "Number of models: 5\n"
     ]
    }
   ],
   "source": [
    "def build_model(shape=(512, 512, 1), model_class=None, ml=0):\n",
    "    inp = Input(shape=shape)\n",
    "    base = get_efficientnet(model_class, shape)\n",
    "    x = base(inp)\n",
    "    x = GlobalMaxPooling2D()(x)\n",
    "    inp2 = Input(shape=(4,))\n",
    "    x2 = GaussianNoise(0.25)(inp2)\n",
    "    x = Concatenate()([x, x2])\n",
    "    x = Dropout(0.25)(x)\n",
    "    x = Dense(1)(x)\n",
    "    model = M.Model([inp, inp2] , x)\n",
    "    \n",
    "    wl = os.listdir(weights)\n",
    "    wl.sort()\n",
    "    \n",
    "    weight = wl[:-1][ml]\n",
    "    model.load_weights(weights+weight)\n",
    "    \n",
    "    return model\n",
    "\n",
    "# model = build_model(model_class='b5')\n",
    "# model.load_weights(weight)\n",
    "# models = [model]\n",
    "\n",
    "print('Number of models: ' + str(len(models)))"
   ]
  },
  {
   "cell_type": "code",
   "execution_count": 7,
   "metadata": {
    "execution": {
     "iopub.execute_input": "2020-10-05T15:38:22.003977Z",
     "iopub.status.busy": "2020-10-05T15:38:22.003326Z",
     "iopub.status.idle": "2020-10-05T15:38:22.217235Z",
     "shell.execute_reply": "2020-10-05T15:38:22.216630Z"
    },
    "papermill": {
     "duration": 0.256411,
     "end_time": "2020-10-05T15:38:22.217375",
     "exception": false,
     "start_time": "2020-10-05T15:38:21.960964",
     "status": "completed"
    },
    "tags": []
   },
   "outputs": [
    {
     "data": {
      "image/png": "[encoded data removed]",
      "text/plain": [
       "<Figure size 432x288 with 1 Axes>"
      ]
     },
     "metadata": {
      "needs_background": "light"
     },
     "output_type": "display_data"
    }
   ],
   "source": [
    "tr_p, vl_p = train_test_split(P, shuffle=True, train_size= 0.8)\n",
    "sns.distplot(list(A.values()));"
   ]
  },
  {
   "cell_type": "code",
   "execution_count": 8,
   "metadata": {
    "_kg_hide-input": true,
    "execution": {
     "iopub.execute_input": "2020-10-05T15:38:22.322616Z",
     "iopub.status.busy": "2020-10-05T15:38:22.321446Z",
     "iopub.status.idle": "2020-10-05T15:38:22.348401Z",
     "shell.execute_reply": "2020-10-05T15:38:22.347825Z"
    },
    "papermill": {
     "duration": 0.086406,
     "end_time": "2020-10-05T15:38:22.348524",
     "exception": false,
     "start_time": "2020-10-05T15:38:22.262118",
     "status": "completed"
    },
    "tags": []
   },
   "outputs": [],
   "source": [
    "if not COMMIT:\n",
    "    subs = []\n",
    "    for n in models:\n",
    "        model = build_model(shape=(512, 512, 1), model_class='b5', ml=n)\n",
    "        metric = []\n",
    "        for q in tqdm(range(1, 5)):\n",
    "            m = []\n",
    "            for p in vl_p:\n",
    "                x = [] \n",
    "                tab = [] \n",
    "\n",
    "                if p in ['ID00011637202177653955184', 'ID00052637202186188008618']:\n",
    "                    continue\n",
    "\n",
    "                ldir = os.listdir(f'../input/osic-pulmonary-fibrosis-progression/train/{p}/')\n",
    "                for i in ldir:\n",
    "                    if int(i[:-4]) / len(ldir) < 0.8 and int(i[:-4]) / len(ldir) > 0.15:\n",
    "                        x.append(get_img(f'../input/osic-pulmonary-fibrosis-progression/train/{p}/{i}')) \n",
    "                        tab.append(get_tab(train.loc[train.Patient == p, :])) \n",
    "                if len(x) < 1:\n",
    "                    continue\n",
    "                tab = np.array(tab) \n",
    "\n",
    "                x = np.expand_dims(x, axis=-1) \n",
    "                _a = model.predict([x, tab]) \n",
    "                a = np.quantile(_a, q / 5)\n",
    "\n",
    "                percent_true = train.Percent.values[train.Patient == p]\n",
    "                fvc_true = train.FVC.values[train.Patient == p]\n",
    "                weeks_true = train.Weeks.values[train.Patient == p]\n",
    "\n",
    "                fvc = a * (weeks_true - weeks_true[0]) + fvc_true[0]\n",
    "                percent = percent_true[0] - a * abs(weeks_true - weeks_true[0])\n",
    "                m.append(score(fvc_true, fvc, percent))\n",
    "            print(np.mean(m))\n",
    "            metric.append(np.mean(m))\n",
    "\n",
    "        q = (np.argmin(metric) + 1)/ 5\n",
    "\n",
    "        sub = pd.read_csv('../input/osic-pulmonary-fibrosis-progression/sample_submission.csv') \n",
    "        test = pd.read_csv('../input/osic-pulmonary-fibrosis-progression/test.csv') \n",
    "        A_test, B_test, P_test,W, FVC= {}, {}, {},{},{} \n",
    "        STD, WEEK = {}, {} \n",
    "        for p in test.Patient.unique():\n",
    "            x = [] \n",
    "            tab = [] \n",
    "            ldir = os.listdir(f'../input/osic-pulmonary-fibrosis-progression/test/{p}/')\n",
    "            for i in ldir:\n",
    "                if int(i[:-4]) / len(ldir) < 0.8 and int(i[:-4]) / len(ldir) > 0.15:\n",
    "                    x.append(get_img(f'../input/osic-pulmonary-fibrosis-progression/test/{p}/{i}')) \n",
    "                    tab.append(get_tab(test.loc[test.Patient == p, :])) \n",
    "            if len(x) <= 1:\n",
    "                continue\n",
    "            tab = np.array(tab) \n",
    "\n",
    "            x = np.expand_dims(x, axis=-1) \n",
    "            _a = model.predict([x, tab]) \n",
    "            a = np.quantile(_a, q)\n",
    "            A_test[p] = a\n",
    "            B_test[p] = test.FVC.values[test.Patient == p] - a*test.Weeks.values[test.Patient == p]\n",
    "            P_test[p] = test.Percent.values[test.Patient == p] \n",
    "            WEEK[p] = test.Weeks.values[test.Patient == p]\n",
    "\n",
    "        for k in sub.Patient_Week.values:\n",
    "            p, w = k.split('_')\n",
    "            w = int(w) \n",
    "\n",
    "            fvc = A_test[p] * w + B_test[p]\n",
    "            sub.loc[sub.Patient_Week == k, 'FVC'] = fvc\n",
    "            sub.loc[sub.Patient_Week == k, 'Confidence'] = (\n",
    "                P_test[p] - A_test[p] * abs(WEEK[p] - w) \n",
    "        ) \n",
    "\n",
    "        _sub = sub[[\"Patient_Week\",\"FVC\",\"Confidence\"]].copy()\n",
    "        subs.append(_sub)"
   ]
  },
  {
   "cell_type": "code",
   "execution_count": 9,
   "metadata": {
    "execution": {
     "iopub.execute_input": "2020-10-05T15:38:22.445633Z",
     "iopub.status.busy": "2020-10-05T15:38:22.444609Z",
     "iopub.status.idle": "2020-10-05T15:38:22.447877Z",
     "shell.execute_reply": "2020-10-05T15:38:22.447284Z"
    },
    "papermill": {
     "duration": 0.05577,
     "end_time": "2020-10-05T15:38:22.447990",
     "exception": false,
     "start_time": "2020-10-05T15:38:22.392220",
     "status": "completed"
    },
    "tags": []
   },
   "outputs": [],
   "source": [
    "if not COMMIT:\n",
    "    N = len(subs)\n",
    "    sub = subs[0].copy()\n",
    "    sub[\"FVC\"] = 0\n",
    "    sub[\"Confidence\"] = 0\n",
    "    for i in range(N):\n",
    "        sub[\"FVC\"] += subs[0][\"FVC\"] * (1/N)\n",
    "        sub[\"Confidence\"] += subs[0][\"Confidence\"] * (1/N)\n",
    "        \n",
    "    img_sub = sub[[\"Patient_Week\",\"FVC\",\"Confidence\"]].copy()\n",
    "    img_sub.to_csv(\"submission_img.csv\", index=False)\n",
    "    print(img_sub)"
   ]
  },
  {
   "cell_type": "markdown",
   "metadata": {
    "papermill": {
     "duration": 0.04362,
     "end_time": "2020-10-05T15:38:22.534099",
     "exception": false,
     "start_time": "2020-10-05T15:38:22.490479",
     "status": "completed"
    },
    "tags": []
   },
   "source": [
    "# QR Model"
   ]
  },
  {
   "cell_type": "code",
   "execution_count": 10,
   "metadata": {
    "execution": {
     "iopub.execute_input": "2020-10-05T15:38:22.625650Z",
     "iopub.status.busy": "2020-10-05T15:38:22.624874Z",
     "iopub.status.idle": "2020-10-05T15:38:22.630350Z",
     "shell.execute_reply": "2020-10-05T15:38:22.629673Z"
    },
    "papermill": {
     "duration": 0.053753,
     "end_time": "2020-10-05T15:38:22.630467",
     "exception": false,
     "start_time": "2020-10-05T15:38:22.576714",
     "status": "completed"
    },
    "tags": []
   },
   "outputs": [],
   "source": [
    "ROOT = \"../input/osic-pulmonary-fibrosis-progression\"\n",
    "BATCH_SIZE=128"
   ]
  },
  {
   "cell_type": "code",
   "execution_count": 11,
   "metadata": {
    "_kg_hide-input": true,
    "execution": {
     "iopub.execute_input": "2020-10-05T15:38:22.753906Z",
     "iopub.status.busy": "2020-10-05T15:38:22.749394Z",
     "iopub.status.idle": "2020-10-05T15:38:22.756611Z",
     "shell.execute_reply": "2020-10-05T15:38:22.756059Z"
    },
    "papermill": {
     "duration": 0.080485,
     "end_time": "2020-10-05T15:38:22.756738",
     "exception": false,
     "start_time": "2020-10-05T15:38:22.676253",
     "status": "completed"
    },
    "tags": []
   },
   "outputs": [],
   "source": [
    "# Chest Area calculations\n",
    "def ChArCalc(x):\n",
    "    x = pydicom.dcmread(x)\n",
    "    img = x.pixel_array\n",
    "    img = (img + x.RescaleIntercept) / x.RescaleSlope\n",
    "    img = img < -400\n",
    "\n",
    "    img = clear_border(img)\n",
    "    img = label(img)\n",
    "    areas = [r.area for r in regionprops(img)]\n",
    "    areas.sort()\n",
    "    if len(areas) > 2:\n",
    "        for region in regionprops(img):\n",
    "            if region.area < areas[-2]:\n",
    "                for coordinates in region.coords:                \n",
    "                    img[coordinates[0], coordinates[1]] = 0\n",
    "\n",
    "    area = (img > 0).sum() * x.PixelSpacing[0] * x.PixelSpacing[1]\n",
    "\n",
    "    return area\n",
    "\n",
    "def ChAr(xs):\n",
    "    m = len(xs)\n",
    "    path = '../input/osic-pulmonary-fibrosis-progression/train/' + xs[0].split('/')[-2] + '/'\n",
    "    \n",
    "    try:\n",
    "        if m%2 == 0:\n",
    "            m = m // 2\n",
    "            char = (ChArCalc(path + str(m) + '.dcm') + ChArCalc(path + str(m+1) + '.dcm') ) / 2\n",
    "        else:\n",
    "            m = m // 2\n",
    "            char = ( ChArCalc(path + str(m) + '.dcm') + ChArCalc(path + str(m+1) + '.dcm') + ChArCalc(path + str(m+2) + '.dcm') ) / 3\n",
    "    except:\n",
    "        char = -1\n",
    "        \n",
    "    return char\n",
    "\n",
    "# Lung Volume Calcs\n",
    "class Detector:\n",
    "    def __call__(self, x):\n",
    "        raise NotImplementedError('Abstract') \n",
    "        \n",
    "class ThrDetector(Detector):\n",
    "    def __init__(self, thr=-400):\n",
    "        self.thr = thr\n",
    "        \n",
    "    def __call__(self, x):\n",
    "        try:\n",
    "            x = pydicom.dcmread(x)\n",
    "            img = x.pixel_array\n",
    "            img = (img + x.RescaleIntercept) / x.RescaleSlope\n",
    "            img = img < self.thr\n",
    "            \n",
    "            img = clear_border(img)\n",
    "            img = label(img)\n",
    "            areas = [r.area for r in regionprops(img)]\n",
    "            areas.sort()\n",
    "            if len(areas) > 2:\n",
    "                for region in regionprops(img):\n",
    "                    if region.area < areas[-2]:\n",
    "                        for coordinates in region.coords:                \n",
    "                            img[coordinates[0], coordinates[1]] = 0\n",
    "                            \n",
    "            area = (img > 0).sum() * x.PixelSpacing[0] * x.PixelSpacing[1]\n",
    "            \n",
    "        except:\n",
    "            area = np.nan\n",
    "\n",
    "        try:\n",
    "            loc = x.ImagePositionPatient[2]\n",
    "        except:\n",
    "            loc = np.nan\n",
    "\n",
    "        return area, loc\n",
    "    \n",
    "class Integral:\n",
    "    def __init__(self, detector: Detector):\n",
    "        self.detector = detector\n",
    "    \n",
    "    def __call__(self, xs):\n",
    "        raise NotImplementedError('Abstract')\n",
    "        \n",
    "\n",
    "class AreaIntegral(Integral):\n",
    "    def __call__(self, xs):\n",
    "        \n",
    "        with Pool(4) as p:\n",
    "            areas, locs = map(list, zip(*p.map(self.detector, xs) ))\n",
    "        \n",
    "        filt = (~np.isnan(locs)) & (~np.isnan(areas))\n",
    "        areas = np.array(areas)[filt]\n",
    "        locs = np.array(locs)[filt]\n",
    "        seq_idx = np.argsort(locs)\n",
    "\n",
    "        return np.trapz(y=areas[seq_idx], x=locs[seq_idx])\n",
    "    \n",
    "integral = AreaIntegral(ThrDetector())"
   ]
  },
  {
   "cell_type": "code",
   "execution_count": 12,
   "metadata": {
    "execution": {
     "iopub.execute_input": "2020-10-05T15:38:22.875564Z",
     "iopub.status.busy": "2020-10-05T15:38:22.874721Z",
     "iopub.status.idle": "2020-10-05T15:38:22.916842Z",
     "shell.execute_reply": "2020-10-05T15:38:22.916211Z"
    },
    "papermill": {
     "duration": 0.095685,
     "end_time": "2020-10-05T15:38:22.916972",
     "exception": false,
     "start_time": "2020-10-05T15:38:22.821287",
     "status": "completed"
    },
    "tags": []
   },
   "outputs": [],
   "source": [
    "tr = pd.read_csv('../input/osicaltfiles/train.csv')\n",
    "tr.drop_duplicates(keep=False, inplace=True, subset=['Patient','Weeks'])\n",
    "\n",
    "chunk = pd.read_csv(f\"{ROOT}/test.csv\")\n",
    "train_data = {}\n",
    "for p in chunk.Patient.values:\n",
    "    train_data[p] = os.listdir(f'{ROOT}/test/{p}/')\n",
    "    \n",
    "keys = [k for k in list(train_data.keys()) if k not in ['ID00011637202177653955184', 'ID00052637202186188008618']]"
   ]
  },
  {
   "cell_type": "code",
   "execution_count": 13,
   "metadata": {
    "execution": {
     "iopub.execute_input": "2020-10-05T15:38:23.024212Z",
     "iopub.status.busy": "2020-10-05T15:38:23.023025Z",
     "iopub.status.idle": "2020-10-05T15:38:57.901936Z",
     "shell.execute_reply": "2020-10-05T15:38:57.898881Z"
    },
    "papermill": {
     "duration": 34.93461,
     "end_time": "2020-10-05T15:38:57.902085",
     "exception": false,
     "start_time": "2020-10-05T15:38:22.967475",
     "status": "completed"
    },
    "tags": []
   },
   "outputs": [
    {
     "name": "stderr",
     "output_type": "stream",
     "text": [
      "100%|██████████| 5/5 [00:34<00:00,  6.97s/it]"
     ]
    },
    {
     "name": "stdout",
     "output_type": "stream",
     "text": [
      "CPU times: user 464 ms, sys: 274 ms, total: 738 ms\n",
      "Wall time: 34.8 s\n"
     ]
    },
    {
     "name": "stderr",
     "output_type": "stream",
     "text": [
      "\n"
     ]
    }
   ],
   "source": [
    "%%time\n",
    "mdata = {}\n",
    "for k in tqdm(keys, total=len(keys)):\n",
    "    x = []\n",
    "    for i in train_data[k]:\n",
    "        x.append(f'{ROOT}/test/{k}/{i}')\n",
    "    vol = integral(x)\n",
    "    char = ChAr(x)\n",
    "    \n",
    "    mdata[k] = [round(vol/1000,3), round(char,3)] # Volume in ml, Chest Area in mm2"
   ]
  },
  {
   "cell_type": "code",
   "execution_count": 14,
   "metadata": {
    "_kg_hide-input": true,
    "execution": {
     "iopub.execute_input": "2020-10-05T15:38:58.003849Z",
     "iopub.status.busy": "2020-10-05T15:38:58.002851Z",
     "iopub.status.idle": "2020-10-05T15:38:58.072414Z",
     "shell.execute_reply": "2020-10-05T15:38:58.071509Z"
    },
    "papermill": {
     "duration": 0.127402,
     "end_time": "2020-10-05T15:38:58.072525",
     "exception": false,
     "start_time": "2020-10-05T15:38:57.945123",
     "status": "completed"
    },
    "tags": []
   },
   "outputs": [
    {
     "name": "stderr",
     "output_type": "stream",
     "text": [
      "100%|██████████| 5/5 [00:00<00:00, 277.36it/s]\n"
     ]
    }
   ],
   "source": [
    "for k in tqdm(chunk.Patient.values):\n",
    "    if k in ['ID00011637202177653955184', 'ID00052637202186188008618']:\n",
    "        continue\n",
    "\n",
    "    chunk.loc[chunk.Patient == k,'vol'] = mdata[k][0]\n",
    "    chunk.loc[chunk.Patient == k,'char'] = mdata[k][1]\n",
    "    \n",
    "chunk['vol'] = chunk['vol'].clip(lower = 500, upper = 6000)\n",
    "chunk.loc[chunk.char < 0,'char'] = 21500  # ~Median value in train set\n",
    "chunk['char'] = chunk['char'].clip(lower = 5000, upper = 35000)\n",
    "\n",
    "sub = pd.read_csv(f\"{ROOT}/sample_submission.csv\")\n",
    "sub['Patient'] = sub['Patient_Week'].apply(lambda x:x.split('_')[0])\n",
    "sub['Weeks'] = sub['Patient_Week'].apply(lambda x: int(x.split('_')[-1]))\n",
    "sub =  sub[['Patient','Weeks','Confidence','Patient_Week']]\n",
    "sub = sub.merge(chunk.drop('Weeks', axis=1), on=\"Patient\")"
   ]
  },
  {
   "cell_type": "code",
   "execution_count": 15,
   "metadata": {
    "execution": {
     "iopub.execute_input": "2020-10-05T15:38:58.173063Z",
     "iopub.status.busy": "2020-10-05T15:38:58.172110Z",
     "iopub.status.idle": "2020-10-05T15:38:58.181583Z",
     "shell.execute_reply": "2020-10-05T15:38:58.182121Z"
    },
    "papermill": {
     "duration": 0.063276,
     "end_time": "2020-10-05T15:38:58.182281",
     "exception": false,
     "start_time": "2020-10-05T15:38:58.119005",
     "status": "completed"
    },
    "tags": []
   },
   "outputs": [],
   "source": [
    "tr['WHERE'] = 'train'\n",
    "chunk['WHERE'] = 'val'\n",
    "sub['WHERE'] = 'test'\n",
    "data = tr.append([chunk, sub])"
   ]
  },
  {
   "cell_type": "code",
   "execution_count": 16,
   "metadata": {
    "execution": {
     "iopub.execute_input": "2020-10-05T15:38:58.279992Z",
     "iopub.status.busy": "2020-10-05T15:38:58.279098Z",
     "iopub.status.idle": "2020-10-05T15:38:58.284879Z",
     "shell.execute_reply": "2020-10-05T15:38:58.285445Z"
    },
    "papermill": {
     "duration": 0.057602,
     "end_time": "2020-10-05T15:38:58.285583",
     "exception": false,
     "start_time": "2020-10-05T15:38:58.227981",
     "status": "completed"
    },
    "tags": []
   },
   "outputs": [
    {
     "name": "stdout",
     "output_type": "stream",
     "text": [
      "(1535, 10) (5, 10) (730, 12) (2270, 12)\n",
      "176 5 5 176\n"
     ]
    }
   ],
   "source": [
    "print(tr.shape, chunk.shape, sub.shape, data.shape)\n",
    "print(tr.Patient.nunique(), chunk.Patient.nunique(), sub.Patient.nunique(), \n",
    "      data.Patient.nunique())"
   ]
  },
  {
   "cell_type": "code",
   "execution_count": 17,
   "metadata": {
    "execution": {
     "iopub.execute_input": "2020-10-05T15:38:58.384519Z",
     "iopub.status.busy": "2020-10-05T15:38:58.383599Z",
     "iopub.status.idle": "2020-10-05T15:38:58.395663Z",
     "shell.execute_reply": "2020-10-05T15:38:58.395116Z"
    },
    "papermill": {
     "duration": 0.065489,
     "end_time": "2020-10-05T15:38:58.395793",
     "exception": false,
     "start_time": "2020-10-05T15:38:58.330304",
     "status": "completed"
    },
    "tags": []
   },
   "outputs": [],
   "source": [
    "data['min_week'] = data['Weeks']\n",
    "data.loc[data.WHERE=='test','min_week'] = np.nan\n",
    "data['min_week'] = data.groupby('Patient')['min_week'].transform('min')"
   ]
  },
  {
   "cell_type": "code",
   "execution_count": 18,
   "metadata": {
    "execution": {
     "iopub.execute_input": "2020-10-05T15:38:58.505105Z",
     "iopub.status.busy": "2020-10-05T15:38:58.504286Z",
     "iopub.status.idle": "2020-10-05T15:38:58.506792Z",
     "shell.execute_reply": "2020-10-05T15:38:58.507443Z"
    },
    "papermill": {
     "duration": 0.065418,
     "end_time": "2020-10-05T15:38:58.507590",
     "exception": false,
     "start_time": "2020-10-05T15:38:58.442172",
     "status": "completed"
    },
    "tags": []
   },
   "outputs": [],
   "source": [
    "base = data.loc[data.Weeks == data.min_week]\n",
    "base = base[['Patient','FVC']].copy()\n",
    "base.columns = ['Patient','min_FVC']\n",
    "base['nb'] = 1\n",
    "base['nb'] = base.groupby('Patient')['nb'].transform('cumsum')\n",
    "base = base[base.nb==1]\n",
    "base.drop('nb', axis=1, inplace=True)"
   ]
  },
  {
   "cell_type": "code",
   "execution_count": 19,
   "metadata": {
    "execution": {
     "iopub.execute_input": "2020-10-05T15:38:58.608570Z",
     "iopub.status.busy": "2020-10-05T15:38:58.607637Z",
     "iopub.status.idle": "2020-10-05T15:38:58.617947Z",
     "shell.execute_reply": "2020-10-05T15:38:58.617395Z"
    },
    "papermill": {
     "duration": 0.065686,
     "end_time": "2020-10-05T15:38:58.618076",
     "exception": false,
     "start_time": "2020-10-05T15:38:58.552390",
     "status": "completed"
    },
    "tags": []
   },
   "outputs": [],
   "source": [
    "data = data.merge(base, on='Patient', how='left')\n",
    "data['base_week'] = data['Weeks'] - data['min_week']\n",
    "del base"
   ]
  },
  {
   "cell_type": "code",
   "execution_count": 20,
   "metadata": {
    "execution": {
     "iopub.execute_input": "2020-10-05T15:38:58.721244Z",
     "iopub.status.busy": "2020-10-05T15:38:58.720291Z",
     "iopub.status.idle": "2020-10-05T15:38:58.727042Z",
     "shell.execute_reply": "2020-10-05T15:38:58.726525Z"
    },
    "papermill": {
     "duration": 0.063228,
     "end_time": "2020-10-05T15:38:58.727168",
     "exception": false,
     "start_time": "2020-10-05T15:38:58.663940",
     "status": "completed"
    },
    "tags": []
   },
   "outputs": [],
   "source": [
    "COLS = ['Sex','SmokingStatus']\n",
    "FE = []\n",
    "for col in COLS:\n",
    "    for mod in data[col].unique():\n",
    "        FE.append(mod)\n",
    "        data[mod] = (data[col] == mod).astype(int)"
   ]
  },
  {
   "cell_type": "code",
   "execution_count": 21,
   "metadata": {
    "_kg_hide-input": true,
    "execution": {
     "iopub.execute_input": "2020-10-05T15:38:58.835089Z",
     "iopub.status.busy": "2020-10-05T15:38:58.834050Z",
     "iopub.status.idle": "2020-10-05T15:38:58.991925Z",
     "shell.execute_reply": "2020-10-05T15:38:58.991302Z"
    },
    "papermill": {
     "duration": 0.218482,
     "end_time": "2020-10-05T15:38:58.992042",
     "exception": false,
     "start_time": "2020-10-05T15:38:58.773560",
     "status": "completed"
    },
    "tags": []
   },
   "outputs": [],
   "source": [
    "# Height calculations\n",
    "def calculate_height(row):\n",
    "    if row['Sex'] == 'Male':\n",
    "        return row['FirstFVC'] / (27.63 - 0.112 * row['Age'])\n",
    "    else:\n",
    "        return row['FirstFVC'] / (21.78 - 0.101 * row['Age'])\n",
    "\n",
    "def fill_height(all_data):\n",
    "    all_data['FirstWeek'] = all_data['Weeks']\n",
    "    all_data.loc[all_data.WHERE=='test','FirstWeek'] = np.nan\n",
    "    all_data['FirstWeek'] = all_data.groupby('Patient')['FirstWeek'].transform('min')\n",
    "\n",
    "    first_fvc = (\n",
    "        all_data\n",
    "        .loc[all_data.Weeks == all_data.FirstWeek][['Patient','FVC']]\n",
    "        .rename({'FVC': 'FirstFVC'}, axis=1)\n",
    "        .groupby('Patient')\n",
    "        .first()\n",
    "        .reset_index()\n",
    "    )\n",
    "\n",
    "    all_data = all_data.merge(first_fvc, on='Patient', how='left')\n",
    "\n",
    "    all_data['Height'] = all_data.apply(calculate_height, axis=1)\n",
    "    return all_data\n",
    "\n",
    "data = fill_height(data)\n",
    "data['Height'] = data['Height'].clip(lower = 100, upper = 210)"
   ]
  },
  {
   "cell_type": "code",
   "execution_count": 22,
   "metadata": {
    "_kg_hide-input": true,
    "execution": {
     "iopub.execute_input": "2020-10-05T15:38:59.105048Z",
     "iopub.status.busy": "2020-10-05T15:38:59.091171Z",
     "iopub.status.idle": "2020-10-05T15:38:59.108058Z",
     "shell.execute_reply": "2020-10-05T15:38:59.107530Z"
    },
    "papermill": {
     "duration": 0.071284,
     "end_time": "2020-10-05T15:38:59.108167",
     "exception": false,
     "start_time": "2020-10-05T15:38:59.036883",
     "status": "completed"
    },
    "tags": []
   },
   "outputs": [],
   "source": [
    "data['age'] = (data['Age'] - data['Age'].min() ) / ( data['Age'].max() - data['Age'].min() )\n",
    "data['BASE'] = (data['min_FVC'] - data['min_FVC'].min() ) / ( data['min_FVC'].max() - data['min_FVC'].min() )\n",
    "data['week'] = (data['base_week'] - data['base_week'].min() ) / ( data['base_week'].max() - data['base_week'].min() )\n",
    "data['percent'] = (data['Percent'] - data['Percent'].min() ) / ( data['Percent'].max() - data['Percent'].min() )\n",
    "data['vol'] = (data['vol'] - data['vol'].min() ) / ( data['vol'].max() - data['vol'].min() )\n",
    "data['char'] = (data['char'] - data['char'].min() ) / ( data['char'].max() - data['char'].min() )\n",
    "data['Height'] = (data['Height'] - data['Height'].min() ) / ( data['Height'].max() - data['Height'].min() )\n",
    "FE = ['age','percent','vol','char','week','Height','BASE']"
   ]
  },
  {
   "cell_type": "code",
   "execution_count": 23,
   "metadata": {
    "execution": {
     "iopub.execute_input": "2020-10-05T15:38:59.206434Z",
     "iopub.status.busy": "2020-10-05T15:38:59.204665Z",
     "iopub.status.idle": "2020-10-05T15:38:59.239879Z",
     "shell.execute_reply": "2020-10-05T15:38:59.240406Z"
    },
    "papermill": {
     "duration": 0.087218,
     "end_time": "2020-10-05T15:38:59.240535",
     "exception": false,
     "start_time": "2020-10-05T15:38:59.153317",
     "status": "completed"
    },
    "tags": []
   },
   "outputs": [
    {
     "data": {
      "text/html": [
       "<div>\n",
       "<style scoped>\n",
       "    .dataframe tbody tr th:only-of-type {\n",
       "        vertical-align: middle;\n",
       "    }\n",
       "\n",
       "    .dataframe tbody tr th {\n",
       "        vertical-align: top;\n",
       "    }\n",
       "\n",
       "    .dataframe thead th {\n",
       "        text-align: right;\n",
       "    }\n",
       "</style>\n",
       "<table border=\"1\" class=\"dataframe\">\n",
       "  <thead>\n",
       "    <tr style=\"text-align: right;\">\n",
       "      <th></th>\n",
       "      <th>Patient</th>\n",
       "      <th>Weeks</th>\n",
       "      <th>FVC</th>\n",
       "      <th>Percent</th>\n",
       "      <th>Age</th>\n",
       "      <th>Sex</th>\n",
       "      <th>SmokingStatus</th>\n",
       "      <th>vol</th>\n",
       "      <th>char</th>\n",
       "      <th>WHERE</th>\n",
       "      <th>...</th>\n",
       "      <th>Ex-smoker</th>\n",
       "      <th>Never smoked</th>\n",
       "      <th>Currently smokes</th>\n",
       "      <th>FirstWeek</th>\n",
       "      <th>FirstFVC</th>\n",
       "      <th>Height</th>\n",
       "      <th>age</th>\n",
       "      <th>BASE</th>\n",
       "      <th>week</th>\n",
       "      <th>percent</th>\n",
       "    </tr>\n",
       "  </thead>\n",
       "  <tbody>\n",
       "    <tr>\n",
       "      <th>0</th>\n",
       "      <td>ID00007637202177411956430</td>\n",
       "      <td>-4</td>\n",
       "      <td>2315</td>\n",
       "      <td>58.253649</td>\n",
       "      <td>79</td>\n",
       "      <td>Male</td>\n",
       "      <td>Ex-smoker</td>\n",
       "      <td>0.425740</td>\n",
       "      <td>0.431795</td>\n",
       "      <td>train</td>\n",
       "      <td>...</td>\n",
       "      <td>1</td>\n",
       "      <td>0</td>\n",
       "      <td>0</td>\n",
       "      <td>-4.0</td>\n",
       "      <td>2315</td>\n",
       "      <td>0.211421</td>\n",
       "      <td>0.769231</td>\n",
       "      <td>0.241456</td>\n",
       "      <td>0.179012</td>\n",
       "      <td>0.236393</td>\n",
       "    </tr>\n",
       "    <tr>\n",
       "      <th>9</th>\n",
       "      <td>ID00009637202177434476278</td>\n",
       "      <td>8</td>\n",
       "      <td>3660</td>\n",
       "      <td>85.282878</td>\n",
       "      <td>69</td>\n",
       "      <td>Male</td>\n",
       "      <td>Ex-smoker</td>\n",
       "      <td>0.695168</td>\n",
       "      <td>0.631081</td>\n",
       "      <td>train</td>\n",
       "      <td>...</td>\n",
       "      <td>1</td>\n",
       "      <td>0</td>\n",
       "      <td>0</td>\n",
       "      <td>8.0</td>\n",
       "      <td>3660</td>\n",
       "      <td>0.762737</td>\n",
       "      <td>0.512821</td>\n",
       "      <td>0.491270</td>\n",
       "      <td>0.179012</td>\n",
       "      <td>0.453901</td>\n",
       "    </tr>\n",
       "    <tr>\n",
       "      <th>18</th>\n",
       "      <td>ID00010637202177584971671</td>\n",
       "      <td>0</td>\n",
       "      <td>3523</td>\n",
       "      <td>94.724672</td>\n",
       "      <td>60</td>\n",
       "      <td>Male</td>\n",
       "      <td>Ex-smoker</td>\n",
       "      <td>0.301749</td>\n",
       "      <td>0.413286</td>\n",
       "      <td>train</td>\n",
       "      <td>...</td>\n",
       "      <td>1</td>\n",
       "      <td>0</td>\n",
       "      <td>0</td>\n",
       "      <td>0.0</td>\n",
       "      <td>3523</td>\n",
       "      <td>0.622582</td>\n",
       "      <td>0.282051</td>\n",
       "      <td>0.465825</td>\n",
       "      <td>0.179012</td>\n",
       "      <td>0.529881</td>\n",
       "    </tr>\n",
       "    <tr>\n",
       "      <th>27</th>\n",
       "      <td>ID00011637202177653955184</td>\n",
       "      <td>6</td>\n",
       "      <td>3326</td>\n",
       "      <td>85.987590</td>\n",
       "      <td>72</td>\n",
       "      <td>Male</td>\n",
       "      <td>Ex-smoker</td>\n",
       "      <td>0.526056</td>\n",
       "      <td>0.545809</td>\n",
       "      <td>train</td>\n",
       "      <td>...</td>\n",
       "      <td>1</td>\n",
       "      <td>0</td>\n",
       "      <td>0</td>\n",
       "      <td>6.0</td>\n",
       "      <td>3326</td>\n",
       "      <td>0.636261</td>\n",
       "      <td>0.589744</td>\n",
       "      <td>0.429235</td>\n",
       "      <td>0.179012</td>\n",
       "      <td>0.459572</td>\n",
       "    </tr>\n",
       "    <tr>\n",
       "      <th>36</th>\n",
       "      <td>ID00012637202177665765362</td>\n",
       "      <td>33</td>\n",
       "      <td>3418</td>\n",
       "      <td>93.726006</td>\n",
       "      <td>65</td>\n",
       "      <td>Male</td>\n",
       "      <td>Never smoked</td>\n",
       "      <td>0.665144</td>\n",
       "      <td>0.633342</td>\n",
       "      <td>train</td>\n",
       "      <td>...</td>\n",
       "      <td>0</td>\n",
       "      <td>1</td>\n",
       "      <td>0</td>\n",
       "      <td>33.0</td>\n",
       "      <td>3418</td>\n",
       "      <td>0.617824</td>\n",
       "      <td>0.410256</td>\n",
       "      <td>0.446322</td>\n",
       "      <td>0.179012</td>\n",
       "      <td>0.521844</td>\n",
       "    </tr>\n",
       "  </tbody>\n",
       "</table>\n",
       "<p>5 rows × 27 columns</p>\n",
       "</div>"
      ],
      "text/plain": [
       "                      Patient  Weeks   FVC    Percent  Age   Sex  \\\n",
       "0   ID00007637202177411956430     -4  2315  58.253649   79  Male   \n",
       "9   ID00009637202177434476278      8  3660  85.282878   69  Male   \n",
       "18  ID00010637202177584971671      0  3523  94.724672   60  Male   \n",
       "27  ID00011637202177653955184      6  3326  85.987590   72  Male   \n",
       "36  ID00012637202177665765362     33  3418  93.726006   65  Male   \n",
       "\n",
       "   SmokingStatus       vol      char  WHERE  ...  Ex-smoker Never smoked  \\\n",
       "0      Ex-smoker  0.425740  0.431795  train  ...          1            0   \n",
       "9      Ex-smoker  0.695168  0.631081  train  ...          1            0   \n",
       "18     Ex-smoker  0.301749  0.413286  train  ...          1            0   \n",
       "27     Ex-smoker  0.526056  0.545809  train  ...          1            0   \n",
       "36  Never smoked  0.665144  0.633342  train  ...          0            1   \n",
       "\n",
       "    Currently smokes  FirstWeek  FirstFVC    Height       age      BASE  \\\n",
       "0                  0       -4.0      2315  0.211421  0.769231  0.241456   \n",
       "9                  0        8.0      3660  0.762737  0.512821  0.491270   \n",
       "18                 0        0.0      3523  0.622582  0.282051  0.465825   \n",
       "27                 0        6.0      3326  0.636261  0.589744  0.429235   \n",
       "36                 0       33.0      3418  0.617824  0.410256  0.446322   \n",
       "\n",
       "        week   percent  \n",
       "0   0.179012  0.236393  \n",
       "9   0.179012  0.453901  \n",
       "18  0.179012  0.529881  \n",
       "27  0.179012  0.459572  \n",
       "36  0.179012  0.521844  \n",
       "\n",
       "[5 rows x 27 columns]"
      ]
     },
     "execution_count": 23,
     "metadata": {},
     "output_type": "execute_result"
    }
   ],
   "source": [
    "data.drop_duplicates(['Patient']).head()"
   ]
  },
  {
   "cell_type": "code",
   "execution_count": 24,
   "metadata": {
    "execution": {
     "iopub.execute_input": "2020-10-05T15:38:59.343277Z",
     "iopub.status.busy": "2020-10-05T15:38:59.342301Z",
     "iopub.status.idle": "2020-10-05T15:38:59.346657Z",
     "shell.execute_reply": "2020-10-05T15:38:59.346093Z"
    },
    "papermill": {
     "duration": 0.059648,
     "end_time": "2020-10-05T15:38:59.346777",
     "exception": false,
     "start_time": "2020-10-05T15:38:59.287129",
     "status": "completed"
    },
    "tags": []
   },
   "outputs": [],
   "source": [
    "tr = data.loc[data.WHERE=='train']\n",
    "chunk = data.loc[data.WHERE=='val']\n",
    "sub = data.loc[data.WHERE=='test']\n",
    "del data"
   ]
  },
  {
   "cell_type": "code",
   "execution_count": 25,
   "metadata": {
    "execution": {
     "iopub.execute_input": "2020-10-05T15:38:59.446413Z",
     "iopub.status.busy": "2020-10-05T15:38:59.445535Z",
     "iopub.status.idle": "2020-10-05T15:38:59.449467Z",
     "shell.execute_reply": "2020-10-05T15:38:59.448997Z"
    },
    "papermill": {
     "duration": 0.055686,
     "end_time": "2020-10-05T15:38:59.449568",
     "exception": false,
     "start_time": "2020-10-05T15:38:59.393882",
     "status": "completed"
    },
    "tags": []
   },
   "outputs": [
    {
     "data": {
      "text/plain": [
       "((1535, 27), (5, 27), (730, 27))"
      ]
     },
     "execution_count": 25,
     "metadata": {},
     "output_type": "execute_result"
    }
   ],
   "source": [
    "tr.shape, chunk.shape, sub.shape"
   ]
  },
  {
   "cell_type": "code",
   "execution_count": 26,
   "metadata": {
    "execution": {
     "iopub.execute_input": "2020-10-05T15:38:59.556035Z",
     "iopub.status.busy": "2020-10-05T15:38:59.555161Z",
     "iopub.status.idle": "2020-10-05T15:38:59.561288Z",
     "shell.execute_reply": "2020-10-05T15:38:59.560815Z"
    },
    "papermill": {
     "duration": 0.064949,
     "end_time": "2020-10-05T15:38:59.561402",
     "exception": false,
     "start_time": "2020-10-05T15:38:59.496453",
     "status": "completed"
    },
    "tags": []
   },
   "outputs": [
    {
     "data": {
      "text/plain": [
       "(1540, 27)"
      ]
     },
     "execution_count": 26,
     "metadata": {},
     "output_type": "execute_result"
    }
   ],
   "source": [
    "# For Test Label inclusion purposes\n",
    "new=pd.concat([tr,chunk])\n",
    "tr=new.copy()\n",
    "tr.shape"
   ]
  },
  {
   "cell_type": "code",
   "execution_count": 27,
   "metadata": {
    "execution": {
     "iopub.execute_input": "2020-10-05T15:38:59.685987Z",
     "iopub.status.busy": "2020-10-05T15:38:59.680916Z",
     "iopub.status.idle": "2020-10-05T15:39:00.422484Z",
     "shell.execute_reply": "2020-10-05T15:39:00.421595Z"
    },
    "papermill": {
     "duration": 0.814272,
     "end_time": "2020-10-05T15:39:00.422627",
     "exception": false,
     "start_time": "2020-10-05T15:38:59.608355",
     "status": "completed"
    },
    "tags": []
   },
   "outputs": [
    {
     "name": "stdout",
     "output_type": "stream",
     "text": [
      "Feature: 0, Score: 0.00592\n",
      "Feature: 1, Score: 0.04175\n",
      "Feature: 2, Score: 0.00440\n",
      "Feature: 3, Score: 0.00603\n",
      "Feature: 4, Score: 0.00633\n",
      "Feature: 5, Score: 0.00555\n",
      "Feature: 6, Score: 0.93001\n"
     ]
    },
    {
     "data": {
      "image/png": "[encoded data removed]",
      "text/plain": [
       "<Figure size 432x288 with 1 Axes>"
      ]
     },
     "metadata": {
      "needs_background": "light"
     },
     "output_type": "display_data"
    }
   ],
   "source": [
    "y = tr['FVC'].values.astype(float)\n",
    "y = y.astype(\"float32\", copy=True)\n",
    "z = tr[FE].values.astype(\"float32\")\n",
    "\n",
    "# random forest for feature importance on a regression problem\n",
    "from sklearn.ensemble import RandomForestRegressor\n",
    "\n",
    "# define the model\n",
    "model = RandomForestRegressor()\n",
    "# fit the model\n",
    "model.fit(z, y)\n",
    "# get importance\n",
    "importance = model.feature_importances_\n",
    "# summarize feature importance\n",
    "for i,v in enumerate(importance):\n",
    "    print('Feature: %0d, Score: %.5f' % (i,v))\n",
    "# plot feature importance\n",
    "plt.bar([x for x in range(len(importance))], importance)\n",
    "plt.show()"
   ]
  },
  {
   "cell_type": "markdown",
   "metadata": {
    "papermill": {
     "duration": 0.051886,
     "end_time": "2020-10-05T15:39:00.533977",
     "exception": false,
     "start_time": "2020-10-05T15:39:00.482091",
     "status": "completed"
    },
    "tags": []
   },
   "source": [
    "### BASELINE NN "
   ]
  },
  {
   "cell_type": "code",
   "execution_count": 28,
   "metadata": {
    "_kg_hide-input": true,
    "execution": {
     "iopub.execute_input": "2020-10-05T15:39:00.651978Z",
     "iopub.status.busy": "2020-10-05T15:39:00.650893Z",
     "iopub.status.idle": "2020-10-05T15:39:00.657924Z",
     "shell.execute_reply": "2020-10-05T15:39:00.658483Z"
    },
    "papermill": {
     "duration": 0.071513,
     "end_time": "2020-10-05T15:39:00.658624",
     "exception": false,
     "start_time": "2020-10-05T15:39:00.587111",
     "status": "completed"
    },
    "tags": []
   },
   "outputs": [],
   "source": [
    "def log(text):\n",
    "    with open('opt.log', 'a+') as logger:\n",
    "        logger.write(f'{text}\\n')\n",
    "\n",
    "def calculate_final_score(y, pred,fac):\n",
    "    x=fac*pred[:, 1]\n",
    "    return mean_absolute_error(y, x)\n",
    "        \n",
    "def optimize(space, y, pred, n_calls=10):\n",
    "    @use_named_args(space)\n",
    "    def score(**params):\n",
    "        final_score = calculate_final_score(y, pred, **params)\n",
    "        return final_score\n",
    "\n",
    "    return gp_minimize(func=score, dimensions=space, n_calls=n_calls)"
   ]
  },
  {
   "cell_type": "code",
   "execution_count": 29,
   "metadata": {
    "_kg_hide-input": true,
    "execution": {
     "iopub.execute_input": "2020-10-05T15:39:00.785675Z",
     "iopub.status.busy": "2020-10-05T15:39:00.774015Z",
     "iopub.status.idle": "2020-10-05T15:39:01.494362Z",
     "shell.execute_reply": "2020-10-05T15:39:01.493717Z"
    },
    "papermill": {
     "duration": 0.781265,
     "end_time": "2020-10-05T15:39:01.494480",
     "exception": false,
     "start_time": "2020-10-05T15:39:00.713215",
     "status": "completed"
    },
    "tags": []
   },
   "outputs": [],
   "source": [
    "!mkdir saves\n",
    "checkpoint_path = \"./saves/best.ckpt\"\n",
    "checkpoint_dir = os.path.dirname(checkpoint_path)\n",
    "\n",
    "# Create a callback that saves the model's weights\n",
    "cp_callback = tf.keras.callbacks.ModelCheckpoint(\n",
    "    filepath=checkpoint_path,\n",
    "    monitor='val_score', \n",
    "    verbose=0,\n",
    "    save_weights_only=True,\n",
    "    mode='min',\n",
    "    save_best_only=True)\n",
    "\n",
    "reduce_lr = ReduceLROnPlateau(monitor='val_score', factor=0.5,\n",
    "                              patience=25, min_lr=0.0001)"
   ]
  },
  {
   "cell_type": "code",
   "execution_count": 30,
   "metadata": {
    "execution": {
     "iopub.execute_input": "2020-10-05T15:39:01.615434Z",
     "iopub.status.busy": "2020-10-05T15:39:01.614512Z",
     "iopub.status.idle": "2020-10-05T15:39:01.629665Z",
     "shell.execute_reply": "2020-10-05T15:39:01.629146Z"
    },
    "papermill": {
     "duration": 0.082682,
     "end_time": "2020-10-05T15:39:01.629873",
     "exception": false,
     "start_time": "2020-10-05T15:39:01.547191",
     "status": "completed"
    },
    "tags": []
   },
   "outputs": [],
   "source": [
    "NFOLD = 5\n",
    "train_df = tr.copy()\n",
    "\n",
    "gkf = GroupKFold(n_splits=NFOLD)\n",
    "\n",
    "X = train_df[['Patient', 'Weeks', 'Percent', 'Age', 'Sex', 'SmokingStatus']].values\n",
    "y = train_df['FVC'].values\n",
    "groups = train_df['Patient'].values\n",
    "\n",
    "for i, (trn_, val_) in enumerate(gkf.split(X, y, groups)):\n",
    "    train_df.loc[val_, 'fold'] = i\n",
    "\n",
    "train_df['fold'] = train_df['fold'].astype(int)\n",
    "#train_df"
   ]
  },
  {
   "cell_type": "code",
   "execution_count": 31,
   "metadata": {
    "execution": {
     "iopub.execute_input": "2020-10-05T15:39:01.740090Z",
     "iopub.status.busy": "2020-10-05T15:39:01.739174Z",
     "iopub.status.idle": "2020-10-05T15:39:01.744391Z",
     "shell.execute_reply": "2020-10-05T15:39:01.744988Z"
    },
    "papermill": {
     "duration": 0.062939,
     "end_time": "2020-10-05T15:39:01.745118",
     "exception": false,
     "start_time": "2020-10-05T15:39:01.682179",
     "status": "completed"
    },
    "tags": []
   },
   "outputs": [],
   "source": [
    "y = train_df['FVC'].values\n",
    "z = train_df[FE].values\n",
    "ze = sub[FE].values\n",
    "nh = z.shape[1]\n",
    "pe = np.zeros((ze.shape[0], 3))\n",
    "pred = np.zeros((z.shape[0], 3))"
   ]
  },
  {
   "cell_type": "code",
   "execution_count": 32,
   "metadata": {
    "execution": {
     "iopub.execute_input": "2020-10-05T15:39:01.881454Z",
     "iopub.status.busy": "2020-10-05T15:39:01.880376Z",
     "iopub.status.idle": "2020-10-05T15:39:01.910343Z",
     "shell.execute_reply": "2020-10-05T15:39:01.911100Z"
    },
    "papermill": {
     "duration": 0.115214,
     "end_time": "2020-10-05T15:39:01.911269",
     "exception": false,
     "start_time": "2020-10-05T15:39:01.796055",
     "status": "completed"
    },
    "tags": []
   },
   "outputs": [],
   "source": [
    "C1, C2 = tf.constant(70, dtype='float32'), tf.constant(1000, dtype=\"float32\")\n",
    "#=============================#\n",
    "def score(y_true, y_pred):\n",
    "    tf.dtypes.cast(y_true, tf.float32)\n",
    "    tf.dtypes.cast(y_pred, tf.float32)\n",
    "    sigma = y_pred[:, 2] - y_pred[:, 0]\n",
    "    fvc_pred = y_pred[:, 1]\n",
    "    \n",
    "    sigma_clip = tf.maximum(sigma, C1)\n",
    "    delta = tf.abs(y_true[:, 0] - fvc_pred)\n",
    "    delta = tf.minimum(delta, C2)\n",
    "    sq2 = tf.sqrt( tf.dtypes.cast(2, dtype=tf.float32) )\n",
    "    metric = (delta / sigma_clip)*sq2 + tf.math.log(sigma_clip* sq2)\n",
    "    return K.mean(metric)\n",
    "#============================#\n",
    "def qloss(y_true, y_pred):\n",
    "    # Pinball loss for multiple quantiles\n",
    "    qs = [0.4, 0.50, 0.6]\n",
    "    q = tf.constant(np.array([qs]), dtype=tf.float32)\n",
    "    e = y_true - y_pred\n",
    "    v = tf.maximum(q*e, (q-1)*e)\n",
    "    return K.mean(v)\n",
    "#=============================#\n",
    "def mloss(_lambda):\n",
    "    def loss(y_true, y_pred):\n",
    "        return _lambda * qloss(y_true, y_pred) + (1 - _lambda)*score(y_true, y_pred)\n",
    "    return loss\n",
    "#=================#\n",
    "def make_model(nh):\n",
    "    z = L.Input((nh,), name=\"Patient\")\n",
    "    x = L.GaussianNoise(0.005)(z)\n",
    "    x = L.Dense(100, activation=\"swish\", name=\"d1\")(x)\n",
    "    x = L.Dropout(0.4)(x)\n",
    "    x = L.GaussianNoise(0.01)(x)\n",
    "    x = L.Dense(100, activation=\"swish\", name=\"d2\")(x)\n",
    "    x = L.Dropout(0.4)(x)\n",
    "    p1 = L.Dense(3, activation=\"linear\", name=\"p1\")(x)\n",
    "    p2 = L.Dense(3, activation=\"swish\", name=\"p2\")(x)\n",
    "    preds = L.Lambda(lambda x: x[0] + tf.cumsum(x[1], axis=1), name=\"preds\")([p1, p2])\n",
    "    \n",
    "    model = M.Model(z, preds, name=\"CNN\")\n",
    "    \n",
    "    model.compile(loss=mloss(0.5), optimizer=tf.keras.optimizers.Adam(\n",
    "        lr=0.1, beta_1=0.9, beta_2=0.999, epsilon=None, decay=0.01, amsgrad=False), metrics=[score])\n",
    "    return model"
   ]
  },
  {
   "cell_type": "code",
   "execution_count": 33,
   "metadata": {
    "execution": {
     "iopub.execute_input": "2020-10-05T15:39:02.075709Z",
     "iopub.status.busy": "2020-10-05T15:39:02.075027Z",
     "iopub.status.idle": "2020-10-05T15:39:02.334386Z",
     "shell.execute_reply": "2020-10-05T15:39:02.333548Z"
    },
    "papermill": {
     "duration": 0.341387,
     "end_time": "2020-10-05T15:39:02.334535",
     "exception": false,
     "start_time": "2020-10-05T15:39:01.993148",
     "status": "completed"
    },
    "tags": []
   },
   "outputs": [
    {
     "name": "stdout",
     "output_type": "stream",
     "text": [
      "Model: \"CNN\"\n",
      "__________________________________________________________________________________________________\n",
      "Layer (type)                    Output Shape         Param #     Connected to                     \n",
      "==================================================================================================\n",
      "Patient (InputLayer)            [(None, 7)]          0                                            \n",
      "__________________________________________________________________________________________________\n",
      "gaussian_noise (GaussianNoise)  (None, 7)            0           Patient[0][0]                    \n",
      "__________________________________________________________________________________________________\n",
      "d1 (Dense)                      (None, 100)          800         gaussian_noise[0][0]             \n",
      "__________________________________________________________________________________________________\n",
      "dropout (Dropout)               (None, 100)          0           d1[0][0]                         \n",
      "__________________________________________________________________________________________________\n",
      "gaussian_noise_1 (GaussianNoise (None, 100)          0           dropout[0][0]                    \n",
      "__________________________________________________________________________________________________\n",
      "d2 (Dense)                      (None, 100)          10100       gaussian_noise_1[0][0]           \n",
      "__________________________________________________________________________________________________\n",
      "dropout_1 (Dropout)             (None, 100)          0           d2[0][0]                         \n",
      "__________________________________________________________________________________________________\n",
      "p1 (Dense)                      (None, 3)            303         dropout_1[0][0]                  \n",
      "__________________________________________________________________________________________________\n",
      "p2 (Dense)                      (None, 3)            303         dropout_1[0][0]                  \n",
      "__________________________________________________________________________________________________\n",
      "preds (Lambda)                  (None, 3)            0           p1[0][0]                         \n",
      "                                                                 p2[0][0]                         \n",
      "==================================================================================================\n",
      "Total params: 11,506\n",
      "Trainable params: 11,506\n",
      "Non-trainable params: 0\n",
      "__________________________________________________________________________________________________\n",
      "None\n",
      "11506\n"
     ]
    }
   ],
   "source": [
    "net = make_model(nh)\n",
    "print(net.summary())\n",
    "print(net.count_params())"
   ]
  },
  {
   "cell_type": "code",
   "execution_count": 34,
   "metadata": {
    "execution": {
     "iopub.execute_input": "2020-10-05T15:39:02.489232Z",
     "iopub.status.busy": "2020-10-05T15:39:02.488363Z",
     "iopub.status.idle": "2020-10-05T15:39:02.494739Z",
     "shell.execute_reply": "2020-10-05T15:39:02.494198Z"
    },
    "papermill": {
     "duration": 0.088247,
     "end_time": "2020-10-05T15:39:02.494851",
     "exception": false,
     "start_time": "2020-10-05T15:39:02.406604",
     "status": "completed"
    },
    "tags": []
   },
   "outputs": [
    {
     "data": {
      "text/html": [
       "<div>\n",
       "<style scoped>\n",
       "    .dataframe tbody tr th:only-of-type {\n",
       "        vertical-align: middle;\n",
       "    }\n",
       "\n",
       "    .dataframe tbody tr th {\n",
       "        vertical-align: top;\n",
       "    }\n",
       "\n",
       "    .dataframe thead th {\n",
       "        text-align: right;\n",
       "    }\n",
       "</style>\n",
       "<table border=\"1\" class=\"dataframe\">\n",
       "  <thead>\n",
       "    <tr style=\"text-align: right;\">\n",
       "      <th></th>\n",
       "      <th>age</th>\n",
       "      <th>percent</th>\n",
       "      <th>vol</th>\n",
       "      <th>char</th>\n",
       "      <th>week</th>\n",
       "      <th>Height</th>\n",
       "      <th>BASE</th>\n",
       "    </tr>\n",
       "  </thead>\n",
       "  <tbody>\n",
       "    <tr>\n",
       "      <th>0</th>\n",
       "      <td>0.769231</td>\n",
       "      <td>0.236393</td>\n",
       "      <td>0.42574</td>\n",
       "      <td>0.431795</td>\n",
       "      <td>0.179012</td>\n",
       "      <td>0.211421</td>\n",
       "      <td>0.241456</td>\n",
       "    </tr>\n",
       "    <tr>\n",
       "      <th>1</th>\n",
       "      <td>0.769231</td>\n",
       "      <td>0.215941</td>\n",
       "      <td>0.42574</td>\n",
       "      <td>0.431795</td>\n",
       "      <td>0.234568</td>\n",
       "      <td>0.211421</td>\n",
       "      <td>0.241456</td>\n",
       "    </tr>\n",
       "    <tr>\n",
       "      <th>2</th>\n",
       "      <td>0.769231</td>\n",
       "      <td>0.184960</td>\n",
       "      <td>0.42574</td>\n",
       "      <td>0.431795</td>\n",
       "      <td>0.246914</td>\n",
       "      <td>0.211421</td>\n",
       "      <td>0.241456</td>\n",
       "    </tr>\n",
       "    <tr>\n",
       "      <th>3</th>\n",
       "      <td>0.769231</td>\n",
       "      <td>0.201767</td>\n",
       "      <td>0.42574</td>\n",
       "      <td>0.431795</td>\n",
       "      <td>0.259259</td>\n",
       "      <td>0.211421</td>\n",
       "      <td>0.241456</td>\n",
       "    </tr>\n",
       "    <tr>\n",
       "      <th>4</th>\n",
       "      <td>0.769231</td>\n",
       "      <td>0.186580</td>\n",
       "      <td>0.42574</td>\n",
       "      <td>0.431795</td>\n",
       "      <td>0.271605</td>\n",
       "      <td>0.211421</td>\n",
       "      <td>0.241456</td>\n",
       "    </tr>\n",
       "  </tbody>\n",
       "</table>\n",
       "</div>"
      ],
      "text/plain": [
       "        age   percent      vol      char      week    Height      BASE\n",
       "0  0.769231  0.236393  0.42574  0.431795  0.179012  0.211421  0.241456\n",
       "1  0.769231  0.215941  0.42574  0.431795  0.234568  0.211421  0.241456\n",
       "2  0.769231  0.184960  0.42574  0.431795  0.246914  0.211421  0.241456\n",
       "3  0.769231  0.201767  0.42574  0.431795  0.259259  0.211421  0.241456\n",
       "4  0.769231  0.186580  0.42574  0.431795  0.271605  0.211421  0.241456"
      ]
     },
     "execution_count": 34,
     "metadata": {},
     "output_type": "execute_result"
    }
   ],
   "source": [
    "train_df[FE].head()"
   ]
  },
  {
   "cell_type": "code",
   "execution_count": 35,
   "metadata": {
    "execution": {
     "iopub.execute_input": "2020-10-05T15:39:02.609051Z",
     "iopub.status.busy": "2020-10-05T15:39:02.608319Z",
     "iopub.status.idle": "2020-10-05T15:39:02.613199Z",
     "shell.execute_reply": "2020-10-05T15:39:02.612636Z"
    },
    "papermill": {
     "duration": 0.062783,
     "end_time": "2020-10-05T15:39:02.613298",
     "exception": false,
     "start_time": "2020-10-05T15:39:02.550515",
     "status": "completed"
    },
    "tags": []
   },
   "outputs": [
    {
     "name": "stdout",
     "output_type": "stream",
     "text": [
      "CPU times: user 3 µs, sys: 1e+03 ns, total: 4 µs\n",
      "Wall time: 7.87 µs\n"
     ]
    }
   ],
   "source": [
    "%%time\n",
    "\n",
    "if not COMMIT:\n",
    "    cnt = 0\n",
    "    EPOCHS = 1000\n",
    "\n",
    "    for fold in range(NFOLD):\n",
    "        print(f\"FOLD {fold}\")\n",
    "\n",
    "        tr_idx=train_df[train_df['fold']!=fold].index.values\n",
    "        val_idx=train_df[train_df['fold']==fold].index.values\n",
    "\n",
    "        net = make_model(nh)\n",
    "        net.fit(z[tr_idx], y[tr_idx], batch_size=BATCH_SIZE, epochs=EPOCHS, \n",
    "                validation_data=(z[val_idx], y[val_idx]), callbacks= [cp_callback, reduce_lr], verbose=0) \n",
    "\n",
    "        net=make_model(nh)\n",
    "        net.load_weights(checkpoint_path)\n",
    "\n",
    "        print(\"train\", net.evaluate(z[tr_idx], y[tr_idx], verbose=0, batch_size=BATCH_SIZE))\n",
    "        print(\"val\", net.evaluate(z[val_idx], y[val_idx], verbose=0, batch_size=BATCH_SIZE))\n",
    "\n",
    "        pred[val_idx] = net.predict(z[val_idx], batch_size=BATCH_SIZE, verbose=0)\n",
    "        pe += net.predict(ze, batch_size=BATCH_SIZE, verbose=0) / NFOLD"
   ]
  },
  {
   "cell_type": "code",
   "execution_count": 36,
   "metadata": {
    "execution": {
     "iopub.execute_input": "2020-10-05T15:39:02.725080Z",
     "iopub.status.busy": "2020-10-05T15:39:02.724356Z",
     "iopub.status.idle": "2020-10-05T15:39:02.728104Z",
     "shell.execute_reply": "2020-10-05T15:39:02.728546Z"
    },
    "papermill": {
     "duration": 0.063659,
     "end_time": "2020-10-05T15:39:02.728672",
     "exception": false,
     "start_time": "2020-10-05T15:39:02.665013",
     "status": "completed"
    },
    "tags": []
   },
   "outputs": [
    {
     "name": "stdout",
     "output_type": "stream",
     "text": [
      "CPU times: user 1.09 ms, sys: 12 µs, total: 1.1 ms\n",
      "Wall time: 1.11 ms\n"
     ]
    }
   ],
   "source": [
    "%%time\n",
    "\n",
    "OPT= True\n",
    "fac= 1.0\n",
    "\n",
    "space = [Real(0.9, 1.1, name='fac')]\n",
    "\n",
    "if OPT and not COMMIT:\n",
    "    opt_result = optimize(space, y,pred,n_calls=50)\n",
    "    \n",
    "    best_final_score = opt_result.fun\n",
    "    best_fac = opt_result.x[0]\n",
    "    print(f'[Best Factor]: {best_fac:.4f}')\n",
    "    print(f'[Best Score]: {best_final_score:.6f}')"
   ]
  },
  {
   "cell_type": "code",
   "execution_count": 37,
   "metadata": {
    "execution": {
     "iopub.execute_input": "2020-10-05T15:39:02.839669Z",
     "iopub.status.busy": "2020-10-05T15:39:02.837804Z",
     "iopub.status.idle": "2020-10-05T15:39:02.840504Z",
     "shell.execute_reply": "2020-10-05T15:39:02.841017Z"
    },
    "papermill": {
     "duration": 0.061456,
     "end_time": "2020-10-05T15:39:02.841138",
     "exception": false,
     "start_time": "2020-10-05T15:39:02.779682",
     "status": "completed"
    },
    "tags": []
   },
   "outputs": [],
   "source": [
    "if not COMMIT:\n",
    "    fac= opt_result.x[0]\n",
    "\n",
    "    sigma_opt = mean_absolute_error(y, pred[:, 1])\n",
    "    sigma_opt2 = mean_absolute_error(y, fac*pred[:, 1])\n",
    "    unc = (pred[:,2] - pred[:, 0]) \n",
    "    sigma_mean = np.mean(unc)\n",
    "    print(sigma_opt, sigma_mean)\n",
    "    print(f'{sigma_opt2} using fac = {fac}')"
   ]
  },
  {
   "cell_type": "code",
   "execution_count": 38,
   "metadata": {
    "execution": {
     "iopub.execute_input": "2020-10-05T15:39:02.955024Z",
     "iopub.status.busy": "2020-10-05T15:39:02.954303Z",
     "iopub.status.idle": "2020-10-05T15:39:02.959411Z",
     "shell.execute_reply": "2020-10-05T15:39:02.960321Z"
    },
    "papermill": {
     "duration": 0.066422,
     "end_time": "2020-10-05T15:39:02.960540",
     "exception": false,
     "start_time": "2020-10-05T15:39:02.894118",
     "status": "completed"
    },
    "tags": []
   },
   "outputs": [],
   "source": [
    "if not COMMIT:\n",
    "    idxs = np.random.randint(0, y.shape[0], 100)\n",
    "    plt.plot(y[idxs], label=\"ground truth\")\n",
    "    plt.plot(pred[idxs, 0], label=\"q25\")\n",
    "    plt.plot(pred[idxs, 1], label=\"q50\")\n",
    "    plt.plot(pred[idxs, 2], label=\"q75\")\n",
    "    plt.legend(loc=\"best\")\n",
    "    plt.show()"
   ]
  },
  {
   "cell_type": "code",
   "execution_count": 39,
   "metadata": {
    "execution": {
     "iopub.execute_input": "2020-10-05T15:39:03.080319Z",
     "iopub.status.busy": "2020-10-05T15:39:03.079495Z",
     "iopub.status.idle": "2020-10-05T15:39:03.083166Z",
     "shell.execute_reply": "2020-10-05T15:39:03.083970Z"
    },
    "papermill": {
     "duration": 0.06277,
     "end_time": "2020-10-05T15:39:03.084108",
     "exception": false,
     "start_time": "2020-10-05T15:39:03.021338",
     "status": "completed"
    },
    "tags": []
   },
   "outputs": [],
   "source": [
    "if not COMMIT:\n",
    "    print(unc.min(), unc.mean(), unc.max(), (unc>=0).mean())\n",
    "    plt.hist(unc)\n",
    "    plt.title(\"uncertainty in prediction\")\n",
    "    plt.show()"
   ]
  },
  {
   "cell_type": "code",
   "execution_count": 40,
   "metadata": {
    "execution": {
     "iopub.execute_input": "2020-10-05T15:39:03.214385Z",
     "iopub.status.busy": "2020-10-05T15:39:03.213530Z",
     "iopub.status.idle": "2020-10-05T15:39:03.217365Z",
     "shell.execute_reply": "2020-10-05T15:39:03.216640Z"
    },
    "papermill": {
     "duration": 0.079993,
     "end_time": "2020-10-05T15:39:03.217473",
     "exception": false,
     "start_time": "2020-10-05T15:39:03.137480",
     "status": "completed"
    },
    "tags": []
   },
   "outputs": [],
   "source": [
    "if not COMMIT:\n",
    "    sub['FVC1'] = fac * pe[:, 1]\n",
    "    sub['Confidence1'] = pe[:, 2] - pe[:, 0]\n",
    "    \n",
    "    subm = sub[['Patient_Week','FVC','Confidence','FVC1','Confidence1']].copy()\n",
    "    subm.loc[~subm.FVC1.isnull(),'FVC'] = subm.loc[~subm.FVC1.isnull(),'FVC1']\n",
    "    if sigma_mean<70:\n",
    "        subm['Confidence'] = sigma_opt\n",
    "    else:\n",
    "        subm.loc[~subm.FVC1.isnull(),'Confidence'] = subm.loc[~subm.FVC1.isnull(),'Confidence1']\n",
    "    \n",
    "    otest = pd.read_csv('../input/osic-pulmonary-fibrosis-progression/test.csv')\n",
    "    for i in range(len(otest)):\n",
    "        subm.loc[subm['Patient_Week']==otest.Patient[i]+'_'+str(otest.Weeks[i]), 'FVC'] = otest.FVC[i]\n",
    "        subm.loc[subm['Patient_Week']==otest.Patient[i]+'_'+str(otest.Weeks[i]), 'Confidence'] = 0.1\n",
    "    \n",
    "    qr_sub = subm[[\"Patient_Week\",\"FVC\",\"Confidence\"]].copy()\n",
    "    qr_sub.to_csv(\"submission_qr.csv\", index=False)\n",
    "    print(qr_sub)"
   ]
  },
  {
   "cell_type": "markdown",
   "metadata": {
    "papermill": {
     "duration": 0.059486,
     "end_time": "2020-10-05T15:39:03.330009",
     "exception": false,
     "start_time": "2020-10-05T15:39:03.270523",
     "status": "completed"
    },
    "tags": []
   },
   "source": [
    "# Ensemble"
   ]
  },
  {
   "cell_type": "code",
   "execution_count": 41,
   "metadata": {
    "execution": {
     "iopub.execute_input": "2020-10-05T15:39:03.460270Z",
     "iopub.status.busy": "2020-10-05T15:39:03.456982Z",
     "iopub.status.idle": "2020-10-05T15:39:04.129723Z",
     "shell.execute_reply": "2020-10-05T15:39:04.128599Z"
    },
    "papermill": {
     "duration": 0.748236,
     "end_time": "2020-10-05T15:39:04.129852",
     "exception": false,
     "start_time": "2020-10-05T15:39:03.381616",
     "status": "completed"
    },
    "tags": []
   },
   "outputs": [],
   "source": [
    "if not COMMIT:\n",
    "    df1 = img_sub.sort_values(by=['Patient_Week'], ascending=True).reset_index(drop=True)\n",
    "    df2 = qr_sub.sort_values(by=['Patient_Week'], ascending=True).reset_index(drop=True)\n",
    "    \n",
    "    df = df1[['Patient_Week']].copy()\n",
    "\n",
    "    df['FVC'] = alpha*df1['FVC'] + (1-alpha)*df2['FVC']\n",
    "    df['Confidence'] = df2['Confidence'] # alpha*df1['Confidence'] + (1-alpha)*df2['Confidence']\n",
    "\n",
    "    df.to_csv('submission.csv', index=False)\n",
    "    print(df.head())\n",
    "    \n",
    "else:\n",
    "    !cp -r '../input/osic-pulmonary-fibrosis-progression/sample_submission.csv' 'submission.csv'"
   ]
  }
 ],
 "metadata": {
  "kernelspec": {
   "display_name": "Python 3",
   "language": "python",
   "name": "python3"
  },
  "language_info": {
   "codemirror_mode": {
    "name": "ipython",
    "version": 3
   },
   "file_extension": ".py",
   "mimetype": "text/x-python",
   "name": "python",
   "nbconvert_exporter": "python",
   "pygments_lexer": "ipython3",
   "version": "3.7.6"
  },
  "papermill": {
   "duration": 77.891181,
   "end_time": "2020-10-05T15:39:04.591319",
   "environment_variables": {},
   "exception": null,
   "input_path": "__notebook__.ipynb",
   "output_path": "__notebook__.ipynb",
   "parameters": {},
   "start_time": "2020-10-05T15:37:46.700138",
   "version": "2.1.0"
  }
 },
 "nbformat": 4,
 "nbformat_minor": 4
}
